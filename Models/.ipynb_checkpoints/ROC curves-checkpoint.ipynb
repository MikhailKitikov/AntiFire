{
 "cells": [
  {
   "cell_type": "code",
   "execution_count": 3,
   "metadata": {},
   "outputs": [],
   "source": [
    "from matplotlib import pyplot as plt\n",
    "import numpy as np\n",
    "from sklearn.metrics import precision_recall_curve, roc_curve, auc\n",
    "import matplotlib\n",
    "matplotlib.use(\"Agg\")\n",
    "\n",
    "import keras\n",
    "from keras.preprocessing.image import ImageDataGenerator\n",
    "from keras.callbacks.callbacks import ModelCheckpoint\n",
    "from keras.layers.pooling import AveragePooling2D, MaxPooling2D\n",
    "from keras.applications.mobilenet_v2 import MobileNetV2\n",
    "import tensorflow as tf\n",
    "from keras.layers.core import Dropout\n",
    "from keras.layers.core import Flatten\n",
    "from keras.layers.core import Dense\n",
    "from keras.layers import Input, Conv2D, BatchNormalization\n",
    "from keras.models import Model\n",
    "from keras.optimizers import SGD, Adam\n",
    "from sklearn.model_selection import train_test_split\n",
    "from sklearn.metrics import classification_report \n",
    "from google.colab.patches import cv2_imshow\n",
    "from imutils import paths\n",
    "import matplotlib.pyplot as plt\n",
    "from PIL import Image\n",
    "import numpy as np\n",
    "import pandas as pd\n",
    "import argparse\n",
    "import pickle\n",
    "import cv2\n",
    "import os   \n",
    "from sklearn.utils import shuffle\n",
    "from keras.models import load_model"
   ]
  },
  {
   "cell_type": "code",
   "execution_count": null,
   "metadata": {},
   "outputs": [],
   "source": [
    "from google.colab import drive\n",
    "drive.mount('/content/gdrive')"
   ]
  },
  {
   "cell_type": "code",
   "execution_count": null,
   "metadata": {},
   "outputs": [],
   "source": [
    "!unzip -q '/content/gdrive/My Drive/Data Science/Datasets/AntiFire Dataset Large.zip'"
   ]
  },
  {
   "cell_type": "code",
   "execution_count": null,
   "metadata": {},
   "outputs": [],
   "source": [
    "resnet = load_model('/content/gdrive/My Drive/Data Science/Models/final/ResNet50')\n",
    "inception = load_model('/content/gdrive/My Drive/Data Science/Models/final/Inceptionv3')\n",
    "mobilenet = load_model('/content/gdrive/My Drive/Data Science/Models/final/MobileNetv2')"
   ]
  },
  {
   "cell_type": "code",
   "execution_count": null,
   "metadata": {},
   "outputs": [],
   "source": [
    "test_datagen = ImageDataGenerator(\n",
    "    samplewise_center=True,\n",
    "    samplewise_std_normalization=True)\n",
    "\n",
    "test_generator = test_datagen.flow_from_directory(\n",
    "    'AntiFire Dataset/test/', target_size=(224, 224),\n",
    "    batch_size=32, class_mode='binary', shuffle=False)\n",
    "\n",
    "y_test = test_generator.labels"
   ]
  },
  {
   "cell_type": "code",
   "execution_count": null,
   "metadata": {},
   "outputs": [],
   "source": [
    "predictions_resnet = resnet.predict_generator(test_generator, steps=np.ceil(3343 / 32), verbose=1)\n",
    "predictions_inception = inception.predict_generator(test_generator, steps=np.ceil(3343 / 32), verbose=1)\n",
    "predictions_mobilenet = mobilenet.predict_generator(test_generator, steps=np.ceil(3343 / 32), verbose=1)"
   ]
  },
  {
   "cell_type": "markdown",
   "metadata": {},
   "source": [
    "### Precision-recall"
   ]
  },
  {
   "cell_type": "code",
   "execution_count": null,
   "metadata": {},
   "outputs": [],
   "source": [
    "resnet_prec, resnet_rec, _ = precision_recall_curve(y_test, predictions_resnet)\n",
    "inception_prec, inception_rec, _ = precision_recall_curve(y_test, predictions_inception)\n",
    "mobilenet_prec, mobilenet_rec, _ = precision_recall_curve(y_test, predictions_mobilenet)\n",
    "\n",
    "plt.figure(figsize=(15, 9))\n",
    "plt.grid()\n",
    "plt.title('Precision-recall curves')\n",
    "\n",
    "plt.step(resnet_rec, resnet_prec, label='ResNet50')\n",
    "plt.step(inception_rec, inception_prec, label='Inception v3')\n",
    "plt.step(mobilenet_rec, mobilenet_prec, label='MobileNet v2')\n",
    "\n",
    "plt.xlabel('Recall')\n",
    "plt.ylabel('Precision')\n",
    "plt.xticks(np.arange(0.0, 1.00001, 0.1))\n",
    "plt.yticks(np.arange(0.2, 1.00001, 0.1))\n",
    "plt.legend()\n",
    "plt.show()"
   ]
  },
  {
   "cell_type": "markdown",
   "metadata": {},
   "source": [
    "### ROC"
   ]
  },
  {
   "cell_type": "code",
   "execution_count": null,
   "metadata": {},
   "outputs": [],
   "source": [
    "resnet_fpr, resnet_tpr, _ = roc_curve(y_test, predictions_resnet)\n",
    "inception_fpr, inception_tpr, _ = roc_curve(y_test, predictions_inception)\n",
    "mobilenet_fpr, mobilenet_tpr, _ = roc_curve(y_test, predictions_mobilenet)\n",
    "\n",
    "plt.figure(figsize=(15, 9))\n",
    "plt.grid()\n",
    "plt.title('ROC curves')\n",
    "\n",
    "plt.step(resnet_fpr, resnet_tpr, label='ResNet50')\n",
    "plt.step(inception_fpr, inception_tpr, label='Inception v3')\n",
    "plt.step(mobilenet_fpr, mobilenet_tpr, label='MobileNet v2')\n",
    "\n",
    "plt.xlabel('False positive rate')\n",
    "plt.ylabel('True positive rate')\n",
    "plt.xticks(np.arange(0.0, 1.00001, 0.1))\n",
    "plt.yticks(np.arange(0.2, 1.00001, 0.1))\n",
    "plt.legend()\n",
    "plt.show()"
   ]
  }
 ],
 "metadata": {
  "kernelspec": {
   "display_name": "Python 3",
   "language": "python",
   "name": "python3"
  },
  "language_info": {
   "codemirror_mode": {
    "name": "ipython",
    "version": 3
   },
   "file_extension": ".py",
   "mimetype": "text/x-python",
   "name": "python",
   "nbconvert_exporter": "python",
   "pygments_lexer": "ipython3",
   "version": "3.7.6"
  }
 },
 "nbformat": 4,
 "nbformat_minor": 4
}
