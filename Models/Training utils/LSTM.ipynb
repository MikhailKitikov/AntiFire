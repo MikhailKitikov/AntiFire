{
 "cells": [
  {
   "cell_type": "code",
   "execution_count": 9,
   "metadata": {},
   "outputs": [],
   "source": [
    "import cv2\n",
    "import numpy as np\n",
    "import os\n",
    "import matplotlib\n",
    "%matplotlib inline\n",
    "\n",
    "import keras\n",
    "from keras.preprocessing.image import ImageDataGenerator\n",
    "from keras.callbacks.callbacks import ModelCheckpoint\n",
    "from keras.layers.pooling import AveragePooling2D, MaxPooling2D\n",
    "import tensorflow as tf\n",
    "from keras.layers.core import Dropout\n",
    "from keras.layers.core import Flatten\n",
    "from keras.layers.core import Dense\n",
    "from keras.layers import Input, Convolution2D, BatchNormalization\n",
    "from keras.models import Model, Sequential\n",
    "from sklearn.model_selection import train_test_split\n",
    "from sklearn.metrics import classification_report \n",
    "from imutils import paths\n",
    "import matplotlib.pyplot as plt\n",
    "from PIL import Image\n",
    "import numpy as np\n",
    "import pandas as pd\n",
    "import argparse\n",
    "import pickle\n",
    "import cv2\n",
    "import os   \n",
    "from sklearn.utils import shuffle\n",
    "from sklearn.metrics import confusion_matrix\n",
    "import itertools\n",
    "from sklearn.metrics import accuracy_score, recall_score, precision_score\n",
    "from keras.models import load_model"
   ]
  },
  {
   "cell_type": "code",
   "execution_count": 10,
   "metadata": {},
   "outputs": [],
   "source": [
    "from keras.layers import LSTM"
   ]
  },
  {
   "cell_type": "code",
   "execution_count": null,
   "metadata": {},
   "outputs": [],
   "source": [
    "def evaluate_model(trainX, trainy, testX, testy):\n",
    "    verbose, epochs, batch_size = 0, 15, 64\n",
    "    n_timesteps, n_features, n_outputs = trainX.shape[1], trainX.shape[2], trainy.shape[1]\n",
    "    model = Sequential()\n",
    "    model.add(LSTM(100, input_shape=(n_timesteps,n_features)))\n",
    "    model.add(Dropout(0.5))\n",
    "    model.add(Dense(100, activation='relu'))\n",
    "    model.add(Dense(n_outputs, activation='softmax'))\n",
    "    model.compile(loss='categorical_crossentropy', optimizer='adam', metrics=['accuracy'])\n",
    "    # fit network\n",
    "    model.fit(trainX, trainy, epochs=epochs, batch_size=batch_size, verbose=verbose)\n",
    "    # evaluate model\n",
    "    _, accuracy = model.evaluate(testX, testy, batch_size=batch_size, verbose=0)\n",
    "    return accuracy"
   ]
  },
  {
   "cell_type": "markdown",
   "metadata": {},
   "source": [
    "### Prepare data"
   ]
  },
  {
   "cell_type": "code",
   "execution_count": 3,
   "metadata": {},
   "outputs": [],
   "source": [
    "path_train = '../Datasets/Videos/lstm/train/'\n",
    "path_test = '../Datasets/Videos/lstm/test/'"
   ]
  },
  {
   "cell_type": "code",
   "execution_count": 47,
   "metadata": {},
   "outputs": [],
   "source": [
    "X_train = []\n",
    "X_test = []\n",
    "\n",
    "y_train = []\n",
    "y_test = []"
   ]
  },
  {
   "cell_type": "code",
   "execution_count": 48,
   "metadata": {},
   "outputs": [],
   "source": [
    "for file in os.listdir(path_train):\n",
    "    if file.endswith(\".csv\"):\n",
    "        data = pd.read_csv(path_train + file).drop('Unnamed: 0', axis=1)\n",
    "        pos = 9\n",
    "        while pos < data.shape[0]:\n",
    "            X_train.append(data.drop('label', axis=1).values[pos-9: pos+1, :])\n",
    "            y_train.append(data['label'].iloc[pos])\n",
    "            pos += 1"
   ]
  },
  {
   "cell_type": "code",
   "execution_count": 49,
   "metadata": {},
   "outputs": [],
   "source": [
    "for file in os.listdir(path_test):\n",
    "    if file.endswith(\".csv\"):\n",
    "        data = pd.read_csv(path_test + file).drop('Unnamed: 0', axis=1)\n",
    "        pos = 9\n",
    "        while pos < data.shape[0]:\n",
    "            X_test.append(data.drop('label', axis=1).values[pos-9: pos+1, :])\n",
    "            y_test.append(data['label'].iloc[pos])\n",
    "            pos += 1"
   ]
  },
  {
   "cell_type": "code",
   "execution_count": 50,
   "metadata": {},
   "outputs": [],
   "source": [
    "X_train = np.array(X_train)\n",
    "X_test = np.array(X_test)\n",
    "\n",
    "def label_to_float(x):\n",
    "    return 0.0 if x == 'fire' else 1.0\n",
    "\n",
    "y_train = np.array([label_to_float(x) for x in y_train])\n",
    "y_test = np.array([label_to_float(x) for x in y_test])"
   ]
  },
  {
   "cell_type": "code",
   "execution_count": 8,
   "metadata": {},
   "outputs": [],
   "source": [
    "scale = np.abs(X_train).max()\n",
    "\n",
    "X_train /= scale\n",
    "X_test /= scale"
   ]
  },
  {
   "cell_type": "markdown",
   "metadata": {},
   "source": [
    "### Train model"
   ]
  },
  {
   "cell_type": "code",
   "execution_count": 51,
   "metadata": {},
   "outputs": [
    {
     "name": "stdout",
     "output_type": "stream",
     "text": [
      "Model: \"sequential_9\"\n",
      "_________________________________________________________________\n",
      "Layer (type)                 Output Shape              Param #   \n",
      "=================================================================\n",
      "lstm_20 (LSTM)               (None, 100)               296400    \n",
      "_________________________________________________________________\n",
      "dropout_17 (Dropout)         (None, 100)               0         \n",
      "_________________________________________________________________\n",
      "dense_17 (Dense)             (None, 100)               10100     \n",
      "_________________________________________________________________\n",
      "dense_18 (Dense)             (None, 1)                 101       \n",
      "=================================================================\n",
      "Total params: 306,601\n",
      "Trainable params: 306,601\n",
      "Non-trainable params: 0\n",
      "_________________________________________________________________\n"
     ]
    }
   ],
   "source": [
    "n_timesteps = 10\n",
    "n_features = 640\n",
    "\n",
    "model = Sequential()\n",
    "model.add(LSTM(100, input_shape=(n_timesteps, n_features)))\n",
    "model.add(Dropout(0.5))\n",
    "model.add(Dense(100, activation='relu'))\n",
    "model.add(Dense(1, activation='sigmoid'))\n",
    "model.summary()"
   ]
  },
  {
   "cell_type": "code",
   "execution_count": 52,
   "metadata": {
    "scrolled": true
   },
   "outputs": [
    {
     "name": "stdout",
     "output_type": "stream",
     "text": [
      "Epoch 1/30\n",
      "1676/1676 [==============================] - 3s 2ms/step - loss: 0.6727 - accuracy: 0.6020\n",
      "Epoch 2/30\n",
      "1676/1676 [==============================] - 2s 1ms/step - loss: 0.6119 - accuracy: 0.6838\n",
      "Epoch 3/30\n",
      "1676/1676 [==============================] - 2s 1ms/step - loss: 0.6164 - accuracy: 0.6850\n",
      "Epoch 4/30\n",
      "1676/1676 [==============================] - 3s 2ms/step - loss: 0.6115 - accuracy: 0.6897\n",
      "Epoch 5/30\n",
      "1676/1676 [==============================] - 2s 1ms/step - loss: 0.6032 - accuracy: 0.7005\n",
      "Epoch 6/30\n",
      "1676/1676 [==============================] - 2s 1ms/step - loss: 0.6014 - accuracy: 0.7130\n",
      "Epoch 7/30\n",
      "1676/1676 [==============================] - 2s 1ms/step - loss: 0.6203 - accuracy: 0.6963\n",
      "Epoch 8/30\n",
      "1676/1676 [==============================] - 2s 1ms/step - loss: 0.6206 - accuracy: 0.6879\n",
      "Epoch 9/30\n",
      "1676/1676 [==============================] - 2s 1ms/step - loss: 0.6208 - accuracy: 0.6945\n",
      "Epoch 10/30\n",
      "1676/1676 [==============================] - 2s 1ms/step - loss: 0.6128 - accuracy: 0.6993\n",
      "Epoch 11/30\n",
      "1676/1676 [==============================] - 2s 1ms/step - loss: 0.6086 - accuracy: 0.6993\n",
      "Epoch 12/30\n",
      "1676/1676 [==============================] - 2s 1ms/step - loss: 0.6151 - accuracy: 0.6993\n",
      "Epoch 13/30\n",
      "1676/1676 [==============================] - 2s 1ms/step - loss: 0.5911 - accuracy: 0.7226\n",
      "Epoch 14/30\n",
      "1676/1676 [==============================] - 3s 2ms/step - loss: 0.5791 - accuracy: 0.7405\n",
      "Epoch 15/30\n",
      "1676/1676 [==============================] - 3s 2ms/step - loss: 0.5690 - accuracy: 0.7428\n",
      "Epoch 16/30\n",
      "1676/1676 [==============================] - 2s 1ms/step - loss: 0.5715 - accuracy: 0.7399\n",
      "Epoch 17/30\n",
      "1676/1676 [==============================] - 2s 1ms/step - loss: 0.5899 - accuracy: 0.7130\n",
      "Epoch 18/30\n",
      "1676/1676 [==============================] - 3s 2ms/step - loss: 0.5810 - accuracy: 0.7315\n",
      "Epoch 19/30\n",
      "1676/1676 [==============================] - 3s 2ms/step - loss: 0.5879 - accuracy: 0.7309\n",
      "Epoch 20/30\n",
      "1676/1676 [==============================] - 3s 2ms/step - loss: 0.5882 - accuracy: 0.7315\n",
      "Epoch 21/30\n",
      "1676/1676 [==============================] - 3s 2ms/step - loss: 0.5824 - accuracy: 0.7321\n",
      "Epoch 22/30\n",
      "1676/1676 [==============================] - 4s 2ms/step - loss: 0.5880 - accuracy: 0.7267\n",
      "Epoch 23/30\n",
      "1676/1676 [==============================] - 3s 2ms/step - loss: 0.5732 - accuracy: 0.7381\n",
      "Epoch 24/30\n",
      "1676/1676 [==============================] - 3s 2ms/step - loss: 0.5756 - accuracy: 0.7345\n",
      "Epoch 25/30\n",
      "1676/1676 [==============================] - 3s 2ms/step - loss: 0.5871 - accuracy: 0.7297\n",
      "Epoch 26/30\n",
      "1676/1676 [==============================] - 2s 1ms/step - loss: 0.5841 - accuracy: 0.7261\n",
      "Epoch 27/30\n",
      "1676/1676 [==============================] - 2s 1ms/step - loss: 0.5761 - accuracy: 0.7333\n",
      "Epoch 28/30\n",
      "1676/1676 [==============================] - 2s 1ms/step - loss: 0.5846 - accuracy: 0.7261\n",
      "Epoch 29/30\n",
      "1676/1676 [==============================] - 4s 2ms/step - loss: 0.5819 - accuracy: 0.7297\n",
      "Epoch 30/30\n",
      "1676/1676 [==============================] - 4s 3ms/step - loss: 0.5639 - accuracy: 0.7422\n"
     ]
    },
    {
     "data": {
      "text/plain": [
       "<keras.callbacks.callbacks.History at 0x7f779e7f31d0>"
      ]
     },
     "execution_count": 52,
     "metadata": {},
     "output_type": "execute_result"
    }
   ],
   "source": [
    "model.compile(loss='binary_crossentropy', optimizer='adam', metrics=['accuracy'])\n",
    "\n",
    "model.fit(X_train, y_train, epochs=30, batch_size=64, verbose=1)"
   ]
  },
  {
   "cell_type": "code",
   "execution_count": 29,
   "metadata": {},
   "outputs": [],
   "source": [
    "model.save('Trained models/LSTM #1')"
   ]
  },
  {
   "cell_type": "code",
   "execution_count": 53,
   "metadata": {},
   "outputs": [
    {
     "name": "stdout",
     "output_type": "stream",
     "text": [
      "276/276 [==============================] - 0s 1ms/step\n",
      "test loss, test acc: [0.43614496441854944, 0.9166666865348816]\n"
     ]
    }
   ],
   "source": [
    "results = model.evaluate(X_test, y_test, batch_size=64)\n",
    "print('test loss, test acc:', results)"
   ]
  },
  {
   "cell_type": "code",
   "execution_count": 54,
   "metadata": {},
   "outputs": [
    {
     "name": "stdout",
     "output_type": "stream",
     "text": [
      "276/276 [==============================] - 0s 1ms/step\n",
      "              precision    recall  f1-score   support\n",
      "\n",
      "         0.0       0.94      0.97      0.96       260\n",
      "         1.0       0.00      0.00      0.00        16\n",
      "\n",
      "    accuracy                           0.92       276\n",
      "   macro avg       0.47      0.49      0.48       276\n",
      "weighted avg       0.89      0.92      0.90       276\n",
      "\n"
     ]
    }
   ],
   "source": [
    "from sklearn.metrics import classification_report\n",
    "\n",
    "y_pred = model.predict(X_test, batch_size=64, verbose=1)\n",
    "y_pred[y_pred <= 0.5] = 0\n",
    "y_pred[y_pred > 0.5] = 1\n",
    "\n",
    "print(classification_report(y_test, y_pred))"
   ]
  },
  {
   "cell_type": "markdown",
   "metadata": {},
   "source": [
    "### 2 layers"
   ]
  },
  {
   "cell_type": "code",
   "execution_count": 39,
   "metadata": {},
   "outputs": [
    {
     "name": "stdout",
     "output_type": "stream",
     "text": [
      "Model: \"sequential_8\"\n",
      "_________________________________________________________________\n",
      "Layer (type)                 Output Shape              Param #   \n",
      "=================================================================\n",
      "lstm_18 (LSTM)               (None, 10, 100)           296400    \n",
      "_________________________________________________________________\n",
      "dropout_15 (Dropout)         (None, 10, 100)           0         \n",
      "_________________________________________________________________\n",
      "lstm_19 (LSTM)               (None, 200)               240800    \n",
      "_________________________________________________________________\n",
      "dropout_16 (Dropout)         (None, 200)               0         \n",
      "_________________________________________________________________\n",
      "dense_15 (Dense)             (None, 100)               20100     \n",
      "_________________________________________________________________\n",
      "dense_16 (Dense)             (None, 1)                 101       \n",
      "=================================================================\n",
      "Total params: 557,401\n",
      "Trainable params: 557,401\n",
      "Non-trainable params: 0\n",
      "_________________________________________________________________\n"
     ]
    }
   ],
   "source": [
    "n_timesteps = 10\n",
    "n_features = 640\n",
    "\n",
    "model2 = Sequential()\n",
    "model2.add(LSTM(100, input_shape=(n_timesteps, n_features), return_sequences=True))\n",
    "model2.add(Dropout(0.5))\n",
    "model2.add(LSTM(200, return_sequences=False))\n",
    "model2.add(Dropout(0.5))\n",
    "model2.add(Dense(100, activation='relu'))\n",
    "model2.add(Dense(1, activation='sigmoid'))\n",
    "model2.summary()"
   ]
  },
  {
   "cell_type": "code",
   "execution_count": 40,
   "metadata": {
    "scrolled": true
   },
   "outputs": [
    {
     "name": "stdout",
     "output_type": "stream",
     "text": [
      "Epoch 1/30\n",
      "1676/1676 [==============================] - 6s 3ms/step - loss: 0.5808 - accuracy: 0.7088\n",
      "Epoch 2/30\n",
      "1676/1676 [==============================] - 5s 3ms/step - loss: 0.5746 - accuracy: 0.7267\n",
      "Epoch 3/30\n",
      "1676/1676 [==============================] - 4s 2ms/step - loss: 0.5451 - accuracy: 0.7595\n",
      "Epoch 4/30\n",
      "1676/1676 [==============================] - 5s 3ms/step - loss: 0.5560 - accuracy: 0.7530\n",
      "Epoch 5/30\n",
      "1676/1676 [==============================] - 7s 4ms/step - loss: 0.5363 - accuracy: 0.7673\n",
      "Epoch 6/30\n",
      "1676/1676 [==============================] - 6s 4ms/step - loss: 0.5584 - accuracy: 0.7530\n",
      "Epoch 7/30\n",
      "1676/1676 [==============================] - 6s 3ms/step - loss: 0.5333 - accuracy: 0.7667\n",
      "Epoch 8/30\n",
      "1676/1676 [==============================] - 8s 5ms/step - loss: 0.5367 - accuracy: 0.7637\n",
      "Epoch 9/30\n",
      "1676/1676 [==============================] - 6s 4ms/step - loss: 0.5491 - accuracy: 0.7536\n",
      "Epoch 10/30\n",
      "1676/1676 [==============================] - 8s 5ms/step - loss: 0.5431 - accuracy: 0.7607\n",
      "Epoch 11/30\n",
      "1676/1676 [==============================] - 12s 7ms/step - loss: 0.5325 - accuracy: 0.7697\n",
      "Epoch 12/30\n",
      "1676/1676 [==============================] - 7s 4ms/step - loss: 0.5342 - accuracy: 0.7709\n",
      "Epoch 13/30\n",
      "1676/1676 [==============================] - 6s 4ms/step - loss: 0.5413 - accuracy: 0.7673\n",
      "Epoch 14/30\n",
      "1676/1676 [==============================] - 4s 2ms/step - loss: 0.5400 - accuracy: 0.7637\n",
      "Epoch 15/30\n",
      "1676/1676 [==============================] - 4s 2ms/step - loss: 0.5364 - accuracy: 0.7637\n",
      "Epoch 16/30\n",
      "1676/1676 [==============================] - 4s 2ms/step - loss: 0.5290 - accuracy: 0.7685\n",
      "Epoch 17/30\n",
      "1676/1676 [==============================] - 4s 2ms/step - loss: 0.5299 - accuracy: 0.7709\n",
      "Epoch 18/30\n",
      "1676/1676 [==============================] - 4s 2ms/step - loss: 0.5359 - accuracy: 0.7625\n",
      "Epoch 19/30\n",
      "1676/1676 [==============================] - 4s 2ms/step - loss: 0.5413 - accuracy: 0.7661\n",
      "Epoch 20/30\n",
      "1676/1676 [==============================] - 4s 2ms/step - loss: 0.5330 - accuracy: 0.7691\n",
      "Epoch 21/30\n",
      "1676/1676 [==============================] - 4s 2ms/step - loss: 0.5395 - accuracy: 0.7673\n",
      "Epoch 22/30\n",
      "1676/1676 [==============================] - 4s 2ms/step - loss: 0.5318 - accuracy: 0.7679\n",
      "Epoch 23/30\n",
      "1676/1676 [==============================] - 5s 3ms/step - loss: 0.5313 - accuracy: 0.7703\n",
      "Epoch 24/30\n",
      "1676/1676 [==============================] - 5s 3ms/step - loss: 0.5341 - accuracy: 0.7679\n",
      "Epoch 25/30\n",
      "1676/1676 [==============================] - 4s 2ms/step - loss: 0.5300 - accuracy: 0.7751\n",
      "Epoch 26/30\n",
      "1676/1676 [==============================] - 6s 3ms/step - loss: 0.5310 - accuracy: 0.7673\n",
      "Epoch 27/30\n",
      "1676/1676 [==============================] - 12s 7ms/step - loss: 0.5311 - accuracy: 0.7649\n",
      "Epoch 28/30\n",
      "1676/1676 [==============================] - 7s 4ms/step - loss: 0.5351 - accuracy: 0.7709\n",
      "Epoch 29/30\n",
      "1676/1676 [==============================] - 5s 3ms/step - loss: 0.5330 - accuracy: 0.7703\n",
      "Epoch 30/30\n",
      "1676/1676 [==============================] - 3s 2ms/step - loss: 0.5280 - accuracy: 0.7804\n"
     ]
    }
   ],
   "source": [
    "model2.compile(loss='binary_crossentropy', optimizer='adam', metrics=['accuracy'])\n",
    "\n",
    "hist2 = model2.fit(X_train, y_train, epochs=30, batch_size=64, verbose=1)"
   ]
  },
  {
   "cell_type": "code",
   "execution_count": 44,
   "metadata": {},
   "outputs": [],
   "source": [
    "model2.save('Trained models/LSTM #2')"
   ]
  },
  {
   "cell_type": "code",
   "execution_count": 45,
   "metadata": {},
   "outputs": [
    {
     "name": "stdout",
     "output_type": "stream",
     "text": [
      "276/276 [==============================] - 0s 694us/step\n",
      "test loss, test acc: [0.3917514815710593, 0.9166666865348816]\n"
     ]
    }
   ],
   "source": [
    "results2 = model2.evaluate(X_test, y_test, batch_size=64)\n",
    "print('test loss, test acc:', results2)"
   ]
  },
  {
   "cell_type": "code",
   "execution_count": 46,
   "metadata": {},
   "outputs": [
    {
     "name": "stdout",
     "output_type": "stream",
     "text": [
      "276/276 [==============================] - 0s 661us/step\n",
      "              precision    recall  f1-score   support\n",
      "\n",
      "         0.0       0.94      0.97      0.96       260\n",
      "         1.0       0.11      0.06      0.08        16\n",
      "\n",
      "    accuracy                           0.92       276\n",
      "   macro avg       0.53      0.52      0.52       276\n",
      "weighted avg       0.90      0.92      0.91       276\n",
      "\n"
     ]
    }
   ],
   "source": [
    "from sklearn.metrics import classification_report\n",
    "\n",
    "y_pred = model2.predict(X_test, batch_size=64, verbose=1)\n",
    "y_pred[y_pred <= 0.5] = 0\n",
    "y_pred[y_pred > 0.5] = 1\n",
    "\n",
    "print(classification_report(y_test, y_pred))"
   ]
  },
  {
   "cell_type": "markdown",
   "metadata": {},
   "source": [
    "### 3 layers"
   ]
  },
  {
   "cell_type": "code",
   "execution_count": 15,
   "metadata": {},
   "outputs": [
    {
     "name": "stdout",
     "output_type": "stream",
     "text": [
      "Model: \"sequential_1\"\n",
      "_________________________________________________________________\n",
      "Layer (type)                 Output Shape              Param #   \n",
      "=================================================================\n",
      "lstm_1 (LSTM)                (None, 10, 100)           296400    \n",
      "_________________________________________________________________\n",
      "dropout_1 (Dropout)          (None, 10, 100)           0         \n",
      "_________________________________________________________________\n",
      "lstm_2 (LSTM)                (None, 10, 200)           240800    \n",
      "_________________________________________________________________\n",
      "dropout_2 (Dropout)          (None, 10, 200)           0         \n",
      "_________________________________________________________________\n",
      "lstm_3 (LSTM)                (None, 200)               320800    \n",
      "_________________________________________________________________\n",
      "dropout_3 (Dropout)          (None, 200)               0         \n",
      "_________________________________________________________________\n",
      "dense_1 (Dense)              (None, 100)               20100     \n",
      "_________________________________________________________________\n",
      "dense_2 (Dense)              (None, 1)                 101       \n",
      "=================================================================\n",
      "Total params: 878,201\n",
      "Trainable params: 878,201\n",
      "Non-trainable params: 0\n",
      "_________________________________________________________________\n"
     ]
    }
   ],
   "source": [
    "n_timesteps = 10\n",
    "n_features = 640\n",
    "\n",
    "model3 = Sequential()\n",
    "model3.add(LSTM(100, input_shape=(n_timesteps, n_features), return_sequences=True))\n",
    "model3.add(Dropout(0.5))\n",
    "model3.add(LSTM(200, return_sequences=True))\n",
    "model3.add(Dropout(0.5))\n",
    "model3.add(LSTM(200, return_sequences=False))\n",
    "model3.add(Dropout(0.5))\n",
    "model3.add(Dense(100, activation='relu'))\n",
    "model3.add(Dense(1, activation='sigmoid'))\n",
    "model3.summary()"
   ]
  },
  {
   "cell_type": "code",
   "execution_count": 16,
   "metadata": {},
   "outputs": [
    {
     "name": "stdout",
     "output_type": "stream",
     "text": [
      "Epoch 1/30\n",
      "1676/1676 [==============================] - 11s 7ms/step - loss: 0.5611 - accuracy: 0.7411\n",
      "Epoch 2/30\n",
      "1676/1676 [==============================] - 6s 4ms/step - loss: 0.5423 - accuracy: 0.7506\n",
      "Epoch 3/30\n",
      "1676/1676 [==============================] - 6s 4ms/step - loss: 0.5564 - accuracy: 0.7494\n",
      "Epoch 4/30\n",
      "1676/1676 [==============================] - 8s 5ms/step - loss: 0.5832 - accuracy: 0.7190\n",
      "Epoch 5/30\n",
      "1676/1676 [==============================] - 7s 4ms/step - loss: 0.5934 - accuracy: 0.6975\n",
      "Epoch 6/30\n",
      "1676/1676 [==============================] - 7s 4ms/step - loss: 0.5700 - accuracy: 0.7202\n",
      "Epoch 7/30\n",
      "1676/1676 [==============================] - 7s 4ms/step - loss: 0.5610 - accuracy: 0.7309\n",
      "Epoch 8/30\n",
      "1676/1676 [==============================] - 9s 5ms/step - loss: 0.5655 - accuracy: 0.7321\n",
      "Epoch 9/30\n",
      "1676/1676 [==============================] - 7s 4ms/step - loss: 0.5588 - accuracy: 0.7405\n",
      "Epoch 10/30\n",
      "1676/1676 [==============================] - 8s 5ms/step - loss: 0.5325 - accuracy: 0.7458\n",
      "Epoch 11/30\n",
      "1676/1676 [==============================] - 8s 5ms/step - loss: 0.5576 - accuracy: 0.7548\n",
      "Epoch 12/30\n",
      "1676/1676 [==============================] - 8s 5ms/step - loss: 0.5378 - accuracy: 0.7464\n",
      "Epoch 13/30\n",
      "1676/1676 [==============================] - 11s 7ms/step - loss: 0.5343 - accuracy: 0.7542\n",
      "Epoch 14/30\n",
      "1676/1676 [==============================] - 7s 4ms/step - loss: 0.5254 - accuracy: 0.7637\n",
      "Epoch 15/30\n",
      "1676/1676 [==============================] - 8s 5ms/step - loss: 0.5319 - accuracy: 0.7589\n",
      "Epoch 16/30\n",
      "1676/1676 [==============================] - 7s 4ms/step - loss: 0.5432 - accuracy: 0.7560\n",
      "Epoch 17/30\n",
      "1676/1676 [==============================] - 6s 4ms/step - loss: 0.5161 - accuracy: 0.7709\n",
      "Epoch 18/30\n",
      "1676/1676 [==============================] - 6s 4ms/step - loss: 0.5117 - accuracy: 0.7715\n",
      "Epoch 19/30\n",
      "1676/1676 [==============================] - 7s 4ms/step - loss: 0.5145 - accuracy: 0.7673\n",
      "Epoch 20/30\n",
      "1676/1676 [==============================] - 8s 5ms/step - loss: 0.5153 - accuracy: 0.7643\n",
      "Epoch 21/30\n",
      "1676/1676 [==============================] - 7s 4ms/step - loss: 0.5162 - accuracy: 0.7703\n",
      "Epoch 22/30\n",
      "1676/1676 [==============================] - 7s 4ms/step - loss: 0.5011 - accuracy: 0.7715\n",
      "Epoch 23/30\n",
      "1676/1676 [==============================] - 6s 4ms/step - loss: 0.5167 - accuracy: 0.7673\n",
      "Epoch 24/30\n",
      "1676/1676 [==============================] - 7s 4ms/step - loss: 0.5306 - accuracy: 0.7584\n",
      "Epoch 25/30\n",
      "1676/1676 [==============================] - 7s 4ms/step - loss: 0.5216 - accuracy: 0.7643\n",
      "Epoch 26/30\n",
      "1676/1676 [==============================] - 7s 4ms/step - loss: 0.5220 - accuracy: 0.7667\n",
      "Epoch 27/30\n",
      "1676/1676 [==============================] - 7s 4ms/step - loss: 0.5154 - accuracy: 0.7673\n",
      "Epoch 28/30\n",
      "1676/1676 [==============================] - 6s 4ms/step - loss: 0.5150 - accuracy: 0.7715\n",
      "Epoch 29/30\n",
      "1676/1676 [==============================] - 6s 4ms/step - loss: 0.5087 - accuracy: 0.7667\n",
      "Epoch 30/30\n",
      "1676/1676 [==============================] - 6s 4ms/step - loss: 0.5019 - accuracy: 0.7721\n"
     ]
    }
   ],
   "source": [
    "model3.compile(loss='binary_crossentropy', optimizer='adam', metrics=['accuracy'])\n",
    "\n",
    "hist2 = model3.fit(X_train, y_train, epochs=30, batch_size=64, verbose=1)"
   ]
  },
  {
   "cell_type": "code",
   "execution_count": 17,
   "metadata": {},
   "outputs": [],
   "source": [
    "model3.save('Trained models/LSTM #3')"
   ]
  },
  {
   "cell_type": "code",
   "execution_count": 18,
   "metadata": {},
   "outputs": [
    {
     "name": "stdout",
     "output_type": "stream",
     "text": [
      "276/276 [==============================] - 1s 3ms/step\n",
      "test loss, test acc: [0.489266413277474, 0.9021739363670349]\n"
     ]
    }
   ],
   "source": [
    "results3 = model3.evaluate(X_test, y_test, batch_size=64)\n",
    "print('test loss, test acc:', results3)"
   ]
  },
  {
   "cell_type": "code",
   "execution_count": 25,
   "metadata": {},
   "outputs": [
    {
     "name": "stdout",
     "output_type": "stream",
     "text": [
      "276/276 [==============================] - 1s 2ms/step\n",
      "              precision    recall  f1-score   support\n",
      "\n",
      "         0.0       0.94      0.95      0.95       260\n",
      "         1.0       0.08      0.06      0.07        16\n",
      "\n",
      "    accuracy                           0.90       276\n",
      "   macro avg       0.51      0.51      0.51       276\n",
      "weighted avg       0.89      0.90      0.90       276\n",
      "\n"
     ]
    }
   ],
   "source": [
    "from sklearn.metrics import classification_report\n",
    "\n",
    "y_pred = model3.predict(X_test, batch_size=64, verbose=1)\n",
    "y_pred[y_pred <= 0.5] = 0\n",
    "y_pred[y_pred > 0.5] = 1\n",
    "\n",
    "print(classification_report(y_test, y_pred))"
   ]
  },
  {
   "cell_type": "markdown",
   "metadata": {},
   "source": [
    "### Mega"
   ]
  },
  {
   "cell_type": "code",
   "execution_count": 20,
   "metadata": {},
   "outputs": [
    {
     "name": "stdout",
     "output_type": "stream",
     "text": [
      "Model: \"sequential_3\"\n",
      "_________________________________________________________________\n",
      "Layer (type)                 Output Shape              Param #   \n",
      "=================================================================\n",
      "lstm_8 (LSTM)                (None, 10, 100)           296400    \n",
      "_________________________________________________________________\n",
      "dropout_8 (Dropout)          (None, 10, 100)           0         \n",
      "_________________________________________________________________\n",
      "lstm_9 (LSTM)                (None, 10, 200)           240800    \n",
      "_________________________________________________________________\n",
      "dropout_9 (Dropout)          (None, 10, 200)           0         \n",
      "_________________________________________________________________\n",
      "lstm_10 (LSTM)               (None, 10, 300)           601200    \n",
      "_________________________________________________________________\n",
      "dropout_10 (Dropout)         (None, 10, 300)           0         \n",
      "_________________________________________________________________\n",
      "lstm_11 (LSTM)               (None, 100)               160400    \n",
      "_________________________________________________________________\n",
      "dropout_11 (Dropout)         (None, 100)               0         \n",
      "_________________________________________________________________\n",
      "dense_5 (Dense)              (None, 100)               10100     \n",
      "_________________________________________________________________\n",
      "dense_6 (Dense)              (None, 1)                 101       \n",
      "=================================================================\n",
      "Total params: 1,309,001\n",
      "Trainable params: 1,309,001\n",
      "Non-trainable params: 0\n",
      "_________________________________________________________________\n"
     ]
    }
   ],
   "source": [
    "n_timesteps = 10\n",
    "n_features = 640\n",
    "\n",
    "mega = Sequential()\n",
    "mega.add(LSTM(100, input_shape=(n_timesteps, n_features), return_sequences=True))\n",
    "mega.add(Dropout(0.5))\n",
    "mega.add(LSTM(200, return_sequences=True))\n",
    "mega.add(Dropout(0.5))\n",
    "mega.add(LSTM(300, return_sequences=True))\n",
    "mega.add(Dropout(0.5))\n",
    "mega.add(LSTM(100, return_sequences=False))\n",
    "mega.add(Dropout(0.5))\n",
    "mega.add(Dense(100, activation='relu'))\n",
    "mega.add(Dense(1, activation='sigmoid'))\n",
    "mega.summary()"
   ]
  },
  {
   "cell_type": "code",
   "execution_count": 21,
   "metadata": {},
   "outputs": [
    {
     "name": "stdout",
     "output_type": "stream",
     "text": [
      "Epoch 1/30\n",
      "1676/1676 [==============================] - 11s 6ms/step - loss: 0.5878 - accuracy: 0.7136\n",
      "Epoch 2/30\n",
      "1676/1676 [==============================] - 8s 5ms/step - loss: 0.5663 - accuracy: 0.7506\n",
      "Epoch 3/30\n",
      "1676/1676 [==============================] - 9s 5ms/step - loss: 0.5507 - accuracy: 0.7506\n",
      "Epoch 4/30\n",
      "1676/1676 [==============================] - 11s 7ms/step - loss: 0.5686 - accuracy: 0.7375\n",
      "Epoch 5/30\n",
      "1676/1676 [==============================] - 8s 5ms/step - loss: 0.5335 - accuracy: 0.7727\n",
      "Epoch 6/30\n",
      "1676/1676 [==============================] - 10s 6ms/step - loss: 0.5451 - accuracy: 0.7625\n",
      "Epoch 7/30\n",
      "1676/1676 [==============================] - 9s 5ms/step - loss: 0.5563 - accuracy: 0.7625\n",
      "Epoch 8/30\n",
      "1676/1676 [==============================] - 8s 5ms/step - loss: 0.5464 - accuracy: 0.7584\n",
      "Epoch 9/30\n",
      "1676/1676 [==============================] - 8s 5ms/step - loss: 0.5485 - accuracy: 0.7494\n",
      "Epoch 10/30\n",
      "1676/1676 [==============================] - 8s 4ms/step - loss: 0.5566 - accuracy: 0.7554\n",
      "Epoch 11/30\n",
      "1676/1676 [==============================] - 7s 4ms/step - loss: 0.5611 - accuracy: 0.7381\n",
      "Epoch 12/30\n",
      "1676/1676 [==============================] - 8s 5ms/step - loss: 0.5797 - accuracy: 0.7088\n",
      "Epoch 13/30\n",
      "1676/1676 [==============================] - 8s 5ms/step - loss: 0.5850 - accuracy: 0.7047\n",
      "Epoch 14/30\n",
      "1676/1676 [==============================] - 8s 5ms/step - loss: 0.5843 - accuracy: 0.7237\n",
      "Epoch 15/30\n",
      "1676/1676 [==============================] - 9s 6ms/step - loss: 0.5623 - accuracy: 0.7393\n",
      "Epoch 16/30\n",
      "1676/1676 [==============================] - 11s 7ms/step - loss: 0.5874 - accuracy: 0.7226\n",
      "Epoch 17/30\n",
      "1676/1676 [==============================] - 10s 6ms/step - loss: 0.6105 - accuracy: 0.6796\n",
      "Epoch 18/30\n",
      "1676/1676 [==============================] - 12s 7ms/step - loss: 0.6114 - accuracy: 0.6826\n",
      "Epoch 19/30\n",
      "1676/1676 [==============================] - 9s 5ms/step - loss: 0.5956 - accuracy: 0.7148\n",
      "Epoch 20/30\n",
      "1676/1676 [==============================] - 9s 5ms/step - loss: 0.5763 - accuracy: 0.7387\n",
      "Epoch 21/30\n",
      "1676/1676 [==============================] - 8s 5ms/step - loss: 0.5758 - accuracy: 0.7387\n",
      "Epoch 22/30\n",
      "1676/1676 [==============================] - 10s 6ms/step - loss: 0.6178 - accuracy: 0.6885\n",
      "Epoch 23/30\n",
      "1676/1676 [==============================] - 15s 9ms/step - loss: 0.6286 - accuracy: 0.6790\n",
      "Epoch 24/30\n",
      "1676/1676 [==============================] - 12s 7ms/step - loss: 0.6270 - accuracy: 0.6790\n",
      "Epoch 25/30\n",
      "1676/1676 [==============================] - 11s 7ms/step - loss: 0.6286 - accuracy: 0.6790\n",
      "Epoch 26/30\n",
      "1676/1676 [==============================] - 9s 5ms/step - loss: 0.6240 - accuracy: 0.6802\n",
      "Epoch 27/30\n",
      "1676/1676 [==============================] - 10s 6ms/step - loss: 0.6211 - accuracy: 0.6850\n",
      "Epoch 28/30\n",
      "1676/1676 [==============================] - 9s 5ms/step - loss: 0.6280 - accuracy: 0.6784\n",
      "Epoch 29/30\n",
      "1676/1676 [==============================] - 10s 6ms/step - loss: 0.6221 - accuracy: 0.6826\n",
      "Epoch 30/30\n",
      "1676/1676 [==============================] - 12s 7ms/step - loss: 0.6153 - accuracy: 0.6993\n"
     ]
    }
   ],
   "source": [
    "mega.compile(loss='binary_crossentropy', optimizer='adam', metrics=['accuracy'])\n",
    "\n",
    "hist_mega = mega.fit(X_train, y_train, epochs=30, batch_size=64, verbose=1)"
   ]
  },
  {
   "cell_type": "code",
   "execution_count": 22,
   "metadata": {},
   "outputs": [],
   "source": [
    "mega.save('Trained models/LSTM #mega')"
   ]
  },
  {
   "cell_type": "code",
   "execution_count": 24,
   "metadata": {},
   "outputs": [
    {
     "name": "stdout",
     "output_type": "stream",
     "text": [
      "276/276 [==============================] - 1s 3ms/step\n",
      "              precision    recall  f1-score   support\n",
      "\n",
      "         0.0       0.94      0.98      0.96       260\n",
      "         1.0       0.00      0.00      0.00        16\n",
      "\n",
      "    accuracy                           0.92       276\n",
      "   macro avg       0.47      0.49      0.48       276\n",
      "weighted avg       0.89      0.92      0.90       276\n",
      "\n"
     ]
    }
   ],
   "source": [
    "from sklearn.metrics import classification_report\n",
    "\n",
    "y_pred = mega.predict(X_test, batch_size=64, verbose=1)\n",
    "y_pred[y_pred <= 0.5] = 0\n",
    "y_pred[y_pred > 0.5] = 1\n",
    "\n",
    "print(classification_report(y_test, y_pred))"
   ]
  },
  {
   "cell_type": "code",
   "execution_count": 26,
   "metadata": {},
   "outputs": [
    {
     "name": "stdout",
     "output_type": "stream",
     "text": [
      "276/276 [==============================] - 1s 3ms/step\n",
      "test loss, test acc: [0.42382233384726703, 0.9202898740768433]\n"
     ]
    }
   ],
   "source": [
    "results_mega = mega.evaluate(X_test, y_test, batch_size=64)\n",
    "print('test loss, test acc:', results_mega)"
   ]
  }
 ],
 "metadata": {
  "kernelspec": {
   "display_name": "Python 3",
   "language": "python",
   "name": "python3"
  },
  "language_info": {
   "codemirror_mode": {
    "name": "ipython",
    "version": 3
   },
   "file_extension": ".py",
   "mimetype": "text/x-python",
   "name": "python",
   "nbconvert_exporter": "python",
   "pygments_lexer": "ipython3",
   "version": "3.7.6"
  }
 },
 "nbformat": 4,
 "nbformat_minor": 4
}
